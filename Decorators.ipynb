{
 "cells": [
  {
   "cell_type": "markdown",
   "metadata": {
    "slideshow": {
     "slide_type": "slide"
    }
   },
   "source": [
    "# Introducing Python Decorators\n",
    "\n",
    "## Mike Driscoll\n",
    "\n",
    "\n",
    "\n",
    "* https://github.com/driscollis/NebraskaCode_Python_Decorators or \n",
    "* http://bit.ly/pythondecor"
   ]
  },
  {
   "cell_type": "markdown",
   "metadata": {
    "slideshow": {
     "slide_type": "slide"
    }
   },
   "source": [
    "# The Humble Function"
   ]
  },
  {
   "cell_type": "code",
   "execution_count": null,
   "metadata": {
    "slideshow": {
     "slide_type": "subslide"
    }
   },
   "outputs": [],
   "source": [
    "def doubler(number):\n",
    "    return number * 2\n",
    "\n",
    "print(doubler(5))"
   ]
  },
  {
   "cell_type": "markdown",
   "metadata": {
    "slideshow": {
     "slide_type": "slide"
    }
   },
   "source": [
    "# Function are Objects Too\n",
    "\n",
    "* Functions are known as \"first class objects\" in Python. \n",
    "* You can pass a function to another function. \n",
    "* Everything in Python is an object"
   ]
  },
  {
   "cell_type": "code",
   "execution_count": null,
   "metadata": {
    "slideshow": {
     "slide_type": "subslide"
    }
   },
   "outputs": [],
   "source": [
    "def doubler(number):\n",
    "    return number * 2\n",
    "\n",
    "print(doubler)\n",
    "print(doubler(10))\n",
    "print(doubler.__name__)\n",
    "print(doubler.__doc__)\n"
   ]
  },
  {
   "cell_type": "markdown",
   "metadata": {
    "slideshow": {
     "slide_type": "subslide"
    }
   },
   "source": [
    "If the function doesn't have a docstring, then `__doc__` returns `None`. Let's fix that:"
   ]
  },
  {
   "cell_type": "code",
   "execution_count": null,
   "metadata": {
    "slideshow": {
     "slide_type": "subslide"
    }
   },
   "outputs": [],
   "source": [
    "def doubler(number):\n",
    "        \"\"\"Doubles the number passed to it\"\"\"\n",
    "        return number * 2 \n",
    "    \n",
    "print(doubler.__doc__)"
   ]
  },
  {
   "cell_type": "markdown",
   "metadata": {
    "slideshow": {
     "slide_type": "slide"
    }
   },
   "source": [
    "# Our First Decorator\n",
    "\n",
    "**Definition:** *A decorator will take the function they are decorating and extend its behavior while not actually modifying what the function itself does.*"
   ]
  },
  {
   "cell_type": "code",
   "execution_count": null,
   "metadata": {
    "slideshow": {
     "slide_type": "subslide"
    }
   },
   "outputs": [],
   "source": [
    "def doubler(number):\n",
    "    \"\"\"Doubles the number passed to it\"\"\"\n",
    "    return number * 2\n",
    "\n",
    "def info(func):\n",
    "    def wrapper(*args):\n",
    "        print('Function name: ' + func.__name__)\n",
    "        print('Function docstring: ' + str(func.__doc__))\n",
    "        return func(*args)\n",
    "    return wrapper\n",
    "\n",
    "my_decorator = info(doubler)\n",
    "print(my_decorator(2))"
   ]
  },
  {
   "cell_type": "markdown",
   "metadata": {
    "slideshow": {
     "slide_type": "slide"
    }
   },
   "source": [
    "# Using Decorator Syntax"
   ]
  },
  {
   "cell_type": "code",
   "execution_count": null,
   "metadata": {
    "slideshow": {
     "slide_type": "subslide"
    }
   },
   "outputs": [],
   "source": [
    "@info\n",
    "def doubler(number):\n",
    "    \"\"\"Doubles the number passed to it\"\"\"\n",
    "    return number * 2\n",
    "\n",
    "print(doubler(4))"
   ]
  },
  {
   "cell_type": "markdown",
   "metadata": {
    "slideshow": {
     "slide_type": "slide"
    }
   },
   "source": [
    "# Stacking / Chaining Decorators\n",
    "\n",
    "You can also apply multiple decorators to a single function"
   ]
  },
  {
   "cell_type": "code",
   "execution_count": null,
   "metadata": {
    "slideshow": {
     "slide_type": "subslide"
    }
   },
   "outputs": [],
   "source": [
    "def bold(func):\n",
    "    def wrapper():\n",
    "        return \"<b>\" + func() + \"</b>\"\n",
    "    return wrapper\n",
    "\n",
    "def italic(func):\n",
    "    def wrapper():\n",
    "        return \"<i>\" + func() + \"</i>\"\n",
    "    return wrapper\n",
    "\n",
    "@bold\n",
    "@italic\n",
    "def formatted_text():\n",
    "    return 'Python rocks!'\n",
    "\n",
    "print(formatted_text())"
   ]
  },
  {
   "cell_type": "markdown",
   "metadata": {
    "slideshow": {
     "slide_type": "slide"
    }
   },
   "source": [
    "# Adding Arguments to Decorated Functions\n",
    "\n",
    "Let's say we want to pass an argument to our `formatted_text` function to make it actually format text that is passed to it. How will that effect the decorator? Or will it?"
   ]
  },
  {
   "cell_type": "code",
   "execution_count": null,
   "metadata": {
    "slideshow": {
     "slide_type": "subslide"
    }
   },
   "outputs": [],
   "source": [
    "@bold\n",
    "def formatted_text(text):\n",
    "    return text\n",
    "\n",
    "print(formatted_text('Python Rocks!'))"
   ]
  },
  {
   "cell_type": "markdown",
   "metadata": {
    "slideshow": {
     "slide_type": "subslide"
    }
   },
   "source": [
    "The `wrapper` function needs an argument passed to it. Let's try modifying that function and see what happens:"
   ]
  },
  {
   "cell_type": "code",
   "execution_count": null,
   "metadata": {
    "slideshow": {
     "slide_type": "subslide"
    }
   },
   "outputs": [],
   "source": [
    "def bold(func):\n",
    "    def wrapper(*args):\n",
    "        return \"<b>\" + func() + \"</b>\"\n",
    "    return wrapper\n",
    "\n",
    "@bold\n",
    "def formatted_text(text):\n",
    "    return text\n",
    "\n",
    "print(formatted_text('Python Rocks!'))"
   ]
  },
  {
   "cell_type": "markdown",
   "metadata": {
    "slideshow": {
     "slide_type": "subslide"
    }
   },
   "source": [
    "Obviously we forgot something. But what?"
   ]
  },
  {
   "cell_type": "code",
   "execution_count": null,
   "metadata": {
    "slideshow": {
     "slide_type": "subslide"
    }
   },
   "outputs": [],
   "source": [
    "def bold(func):\n",
    "    def wrapper(*args):                      # <-- We need *args passed to wrapper()\n",
    "        return \"<b>\" + func(*args) + \"</b>\"  # <-- We need to add *args here too\n",
    "    return wrapper\n",
    "\n",
    "@bold\n",
    "def formatted_text(text):\n",
    "    return text\n",
    "\n",
    "print(formatted_text('Python Rocks!'))"
   ]
  },
  {
   "cell_type": "markdown",
   "metadata": {
    "slideshow": {
     "slide_type": "subslide"
    }
   },
   "source": [
    "Now we have a fully functional decorator that allows us to pass arguments to the decorated function"
   ]
  },
  {
   "cell_type": "markdown",
   "metadata": {
    "slideshow": {
     "slide_type": "skip"
    }
   },
   "source": [
    "## Exercise(s)\n",
    "\n",
    "1) How do we add arguments to the decorator?"
   ]
  },
  {
   "cell_type": "markdown",
   "metadata": {
    "slideshow": {
     "slide_type": "slide"
    }
   },
   "source": [
    "# Adding arguments to the decorator itself"
   ]
  },
  {
   "cell_type": "code",
   "execution_count": null,
   "metadata": {
    "slideshow": {
     "slide_type": "subslide"
    }
   },
   "outputs": [],
   "source": [
    "def my_decorator(arg1, arg2):\n",
    "    print('Decorator arg1 = ' + str(arg1))\n",
    "    print('Decorator arg2 = ' + str(arg2))\n",
    "\n",
    "    def the_real_decorator(function):\n",
    "\n",
    "        def wrapper(*args, **kwargs):\n",
    "            print('Function {} args: {} kwargs: {}'.format(\n",
    "                function.__name__, str(args), str(kwargs)))\n",
    "            return function(*args, **kwargs)\n",
    "\n",
    "        return wrapper\n",
    "\n",
    "    return the_real_decorator\n",
    "\n",
    "@my_decorator(3, 'Python')\n",
    "def doubler(number):\n",
    "    return number * 2\n",
    "\n",
    "print(doubler(5))"
   ]
  },
  {
   "cell_type": "markdown",
   "metadata": {
    "slideshow": {
     "slide_type": "subslide"
    }
   },
   "source": [
    "Unwrapping the decorator"
   ]
  },
  {
   "cell_type": "code",
   "execution_count": null,
   "metadata": {
    "slideshow": {
     "slide_type": "subslide"
    }
   },
   "outputs": [],
   "source": [
    "def info(arg1, arg2):\n",
    "    print('Decorator arg1 = ' + str(arg1))\n",
    "    print('Decorator arg2 = ' + str(arg2))\n",
    " \n",
    "    def the_real_decorator(function):\n",
    " \n",
    "        def wrapper(*args, **kwargs):\n",
    "            print('Function {} args: {} kwargs: {}'.format(\n",
    "                function.__name__, str(args), str(kwargs)))\n",
    "            return function(*args, **kwargs)\n",
    " \n",
    "        return wrapper\n",
    " \n",
    "    return the_real_decorator\n",
    " \n",
    "def doubler(number):\n",
    "    return number * 2\n",
    " \n",
    "decorator = info(3, 'Python')(doubler)\n",
    "print(decorator(5))"
   ]
  },
  {
   "cell_type": "markdown",
   "metadata": {
    "slideshow": {
     "slide_type": "slide"
    }
   },
   "source": [
    "# Simplification with partial\n",
    "\n",
    "You can simplify this example using the **functools** library"
   ]
  },
  {
   "cell_type": "code",
   "execution_count": null,
   "metadata": {},
   "outputs": [],
   "source": [
    "from functools import partial\n",
    " \n",
    " \n",
    "def info(func, arg1, arg2):\n",
    "    print('Decorator arg1 = ' + str(arg1))\n",
    "    print('Decorator arg2 = ' + str(arg2))\n",
    " \n",
    "    def wrapper(*args, **kwargs):\n",
    "        print('Function {} args: {} kwargs: {}'.format(\n",
    "            function.__name__, str(args), str(kwargs)))\n",
    "        return function(*args, **kwargs)\n",
    " \n",
    "    return wrapper\n",
    " \n",
    "decorator_with_arguments = partial(info, arg1=3, arg2='Py')\n",
    " \n",
    "@decorator_with_arguments\n",
    "def doubler(number):\n",
    "    return number * 2\n",
    " \n",
    "print(doubler(5))"
   ]
  },
  {
   "cell_type": "markdown",
   "metadata": {
    "slideshow": {
     "slide_type": "slide"
    }
   },
   "source": [
    "# Decorator Obfuscation\n",
    "\n",
    "Decorators actually obfuscate some things about the original function that they are decorating. For example, the name of the function and the docstring can change:"
   ]
  },
  {
   "cell_type": "code",
   "execution_count": null,
   "metadata": {
    "slideshow": {
     "slide_type": "subslide"
    }
   },
   "outputs": [],
   "source": [
    "def bold(func):\n",
    "    def wrapper(*args):\n",
    "        return \"<b>\" + func(*args) + \"</b>\"\n",
    "    return wrapper\n",
    "\n",
    "@bold\n",
    "def formatted_text(text):\n",
    "    \"\"\"\n",
    "    Format the passed in text\n",
    "    \"\"\"\n",
    "    return text\n",
    "\n",
    "print(formatted_text.__name__)\n",
    "print(formatted_text.__doc__)"
   ]
  },
  {
   "cell_type": "markdown",
   "metadata": {
    "slideshow": {
     "slide_type": "subslide"
    }
   },
   "source": [
    "Python provides a way to fix this in its `functools` module:"
   ]
  },
  {
   "cell_type": "code",
   "execution_count": null,
   "metadata": {
    "slideshow": {
     "slide_type": "subslide"
    }
   },
   "outputs": [],
   "source": [
    "from functools import wraps\n",
    "\n",
    "def bold(func):\n",
    "    @wraps(func)\n",
    "    def wrapper(*args):\n",
    "        return \"<b>\" + func(*args) + \"</b>\"\n",
    "    return wrapper\n",
    "\n",
    "@bold\n",
    "def formatted_text(text):\n",
    "    \"\"\"\n",
    "    Format the passed in text\n",
    "    \"\"\"\n",
    "    return text\n",
    "\n",
    "print(formatted_text.__name__)\n",
    "print(formatted_text.__doc__)"
   ]
  },
  {
   "cell_type": "markdown",
   "metadata": {
    "slideshow": {
     "slide_type": "slide"
    }
   },
   "source": [
    "# Class Decorators\n",
    "\n",
    "Using a class as a decorator"
   ]
  },
  {
   "cell_type": "code",
   "execution_count": null,
   "metadata": {
    "slideshow": {
     "slide_type": "subslide"
    }
   },
   "outputs": [],
   "source": [
    "class decorator_with_arguments:\n",
    " \n",
    "    def __init__(self, arg1, arg2):\n",
    "        print('in __init__')\n",
    "        self.arg1 = arg1\n",
    "        self.arg2 = arg2\n",
    "        print('Decorator args: {}, {}'.format(arg1, arg2))\n",
    " \n",
    "    def __call__(self, f):\n",
    "        print('in __call__')\n",
    "        def wrapped(*args, **kwargs):\n",
    "            print('in wrapped()')\n",
    "            return f(*args, **kwargs)\n",
    "        return wrapped\n",
    " \n",
    "@decorator_with_arguments(3, 'Python')\n",
    "def doubler(number):\n",
    "    return number * 2\n",
    " \n",
    "print(doubler(5))"
   ]
  },
  {
   "cell_type": "markdown",
   "metadata": {
    "slideshow": {
     "slide_type": "slide"
    }
   },
   "source": [
    "# Decorating a Class\n",
    "\n",
    "Adding a decorator to a class without modifying behavior"
   ]
  },
  {
   "cell_type": "code",
   "execution_count": null,
   "metadata": {
    "slideshow": {
     "slide_type": "slide"
    }
   },
   "outputs": [],
   "source": [
    "class MyActualClass:\n",
    "    def __init__(self):\n",
    "        print('in MyActualClass __init__()')\n",
    " \n",
    "    def quad(self, value):\n",
    "        return value * 4\n",
    " \n",
    "obj = MyActualClass()\n",
    "print(obj.quad(4))"
   ]
  },
  {
   "cell_type": "code",
   "execution_count": null,
   "metadata": {
    "slideshow": {
     "slide_type": "subslide"
    }
   },
   "outputs": [],
   "source": [
    "def decorator(cls):\n",
    "    class Wrapper(cls):\n",
    "        def doubler(self, value):\n",
    "            return value * 2\n",
    "    return Wrapper\n",
    " \n",
    "@decorator\n",
    "class MyActualClass:\n",
    "    def __init__(self):\n",
    "        print('in MyActualClass __init__()')\n",
    " \n",
    "    def quad(self, value):\n",
    "        return value * 4\n",
    " \n",
    "obj = MyActualClass()\n",
    "print(obj.quad(4))\n",
    "print(obj.doubler(5))"
   ]
  },
  {
   "cell_type": "markdown",
   "metadata": {
    "slideshow": {
     "slide_type": "subslide"
    }
   },
   "source": [
    "Or just use a subclass"
   ]
  },
  {
   "cell_type": "code",
   "execution_count": null,
   "metadata": {
    "slideshow": {
     "slide_type": "subslide"
    }
   },
   "outputs": [],
   "source": [
    "\n",
    "class MyActualClass:\n",
    "    def __init__(self):\n",
    "        print('in MyActualClass __init__()')\n",
    "\n",
    "    def quad(self, value):\n",
    "        return value * 4\n",
    "\n",
    "class MySubClass(MyActualClass):\n",
    "    def doubler(self, value):\n",
    "        return value * 2\n",
    "\n",
    "obj = MySubClass()\n",
    "print(obj.quad(4))\n",
    "print(obj.doubler(5))"
   ]
  },
  {
   "cell_type": "markdown",
   "metadata": {
    "slideshow": {
     "slide_type": "slide"
    }
   },
   "source": [
    "# Practical Decorators\n",
    "\n",
    "You can use decorators for many things. Some of the most popular uses including creating decorators for authentication (django / flask) and logging."
   ]
  },
  {
   "cell_type": "markdown",
   "metadata": {
    "slideshow": {
     "slide_type": "subslide"
    }
   },
   "source": [
    "## A Logging Decorator"
   ]
  },
  {
   "cell_type": "code",
   "execution_count": null,
   "metadata": {
    "slideshow": {
     "slide_type": "subslide"
    }
   },
   "outputs": [],
   "source": [
    "import logging\n",
    "\n",
    "def log(func):\n",
    "    \"\"\"\n",
    "    Log what function is called\n",
    "    \"\"\"\n",
    "    def wrap_log(*args, **kwargs):\n",
    "        name = func.__name__\n",
    "        logger = logging.getLogger(name)\n",
    "        logger.setLevel(logging.INFO)\n",
    "\n",
    "        # add file handler\n",
    "        fh = logging.FileHandler(\"/home/mdriscoll/Desktop/%s.log\" % name)\n",
    "        fmt = '%(asctime)s - %(name)s - %(levelname)s - %(message)s'\n",
    "        formatter = logging.Formatter(fmt)\n",
    "        fh.setFormatter(formatter)\n",
    "        logger.addHandler(fh)\n",
    "\n",
    "        logger.info(\"Running function: %s\" % name)\n",
    "        result = func(*args, **kwargs)\n",
    "        logger.info(\"Result: %s\" % result)\n",
    "        return func\n",
    "    return wrap_log\n",
    "\n",
    "\n",
    "@log\n",
    "def doubler(number):\n",
    "    \"\"\"Doubles the number passed to it\"\"\"\n",
    "    return number * 2\n"
   ]
  },
  {
   "cell_type": "markdown",
   "metadata": {
    "collapsed": true,
    "slideshow": {
     "slide_type": "skip"
    }
   },
   "source": [
    "## Exercise(s)\n",
    "\n",
    "1) How can we tell our logger decorator where to log? \n",
    "2) Can you figure out how to make the logger decorator log to stdout?\n"
   ]
  },
  {
   "cell_type": "markdown",
   "metadata": {
    "slideshow": {
     "slide_type": "slide"
    }
   },
   "source": [
    "## An Example from Flask\n",
    "\n",
    "http://flask.pocoo.org/docs/0.12/quickstart/#a-minimal-application"
   ]
  },
  {
   "cell_type": "code",
   "execution_count": null,
   "metadata": {
    "slideshow": {
     "slide_type": "subslide"
    }
   },
   "outputs": [],
   "source": [
    "from flask import Flask\n",
    "app = Flask(__name__)\n",
    "\n",
    "@app.route('/')\n",
    "def hello_world():\n",
    "    return 'Hello, World!'"
   ]
  },
  {
   "cell_type": "markdown",
   "metadata": {
    "slideshow": {
     "slide_type": "slide"
    }
   },
   "source": [
    "# Questions?\n",
    "\n"
   ]
  }
 ],
 "metadata": {
  "celltoolbar": "Slideshow",
  "kernelspec": {
   "display_name": "Python 3",
   "language": "python",
   "name": "python3"
  },
  "language_info": {
   "codemirror_mode": {
    "name": "ipython",
    "version": 3
   },
   "file_extension": ".py",
   "mimetype": "text/x-python",
   "name": "python",
   "nbconvert_exporter": "python",
   "pygments_lexer": "ipython3",
   "version": "3.5.2"
  }
 },
 "nbformat": 4,
 "nbformat_minor": 2
}
