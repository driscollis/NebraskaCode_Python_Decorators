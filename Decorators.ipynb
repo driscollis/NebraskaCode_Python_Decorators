{
 "cells": [
  {
   "cell_type": "markdown",
   "metadata": {
    "slideshow": {
     "slide_type": "slide"
    }
   },
   "source": [
    "# Python Decorators\n",
    "\n",
    "### Mike Driscoll\n",
    "\n",
    "\n",
    "\n",
    "* https://github.com/driscollis/ or\n",
    "* http://bit.ly/pythondecor"
   ]
  },
  {
   "cell_type": "markdown",
   "metadata": {
    "slideshow": {
     "slide_type": "slide"
    }
   },
   "source": [
    "## About Me\n",
    "\n",
    " - Programming in Python for 10+ years\n",
    " - Blogs about Python at www.MouseVsPython.com\n",
    " - Writes books about Python"
   ]
  },
  {
   "cell_type": "markdown",
   "metadata": {
    "slideshow": {
     "slide_type": "slide"
    }
   },
   "source": [
    "## Decorator\n",
    "\n",
    "**Definition:** *A decorator will take the function they are decorating and extend its behavior while not actually modifying what the function itself does.*"
   ]
  },
  {
   "cell_type": "markdown",
   "metadata": {
    "slideshow": {
     "slide_type": "slide"
    }
   },
   "source": [
    "# Let's get started with..."
   ]
  },
  {
   "cell_type": "markdown",
   "metadata": {
    "slideshow": {
     "slide_type": "slide"
    }
   },
   "source": [
    "# The Humble Function"
   ]
  },
  {
   "cell_type": "code",
   "execution_count": null,
   "metadata": {
    "slideshow": {
     "slide_type": "subslide"
    }
   },
   "outputs": [],
   "source": [
    "def doubler(number):\n",
    "    return number * 2\n",
    "\n",
    "doubler(5)"
   ]
  },
  {
   "cell_type": "markdown",
   "metadata": {
    "slideshow": {
     "slide_type": "slide"
    }
   },
   "source": [
    "# Function Parameters\n",
    "\n",
    " - normal\n",
    " - keyword\n",
    " - variable arguments\n",
    " - variable keyword arguments"
   ]
  },
  {
   "cell_type": "code",
   "execution_count": null,
   "metadata": {
    "slideshow": {
     "slide_type": "subslide"
    }
   },
   "outputs": [],
   "source": [
    "# normal\n",
    "\n",
    "def params(x, y):\n",
    "    print(x, y)\n",
    "    \n",
    "params(7, 1)"
   ]
  },
  {
   "cell_type": "code",
   "execution_count": null,
   "metadata": {
    "slideshow": {
     "slide_type": "subslide"
    }
   },
   "outputs": [],
   "source": [
    "# normal + keyword arguments\n",
    "\n",
    "def params(x, y, z=2):\n",
    "    print('args => ', x, y)\n",
    "    print('keyword args => ', z)\n",
    "    \n",
    "params(7, 1)\n",
    "params(10, 5, z='foo')"
   ]
  },
  {
   "cell_type": "code",
   "execution_count": null,
   "metadata": {
    "slideshow": {
     "slide_type": "subslide"
    }
   },
   "outputs": [],
   "source": [
    "# arbitrary number of arguments\n",
    "\n",
    "def params(*args):\n",
    "    print('args => ', args)\n",
    "    \n",
    "params(7, 1)"
   ]
  },
  {
   "cell_type": "code",
   "execution_count": null,
   "metadata": {
    "slideshow": {
     "slide_type": "subslide"
    }
   },
   "outputs": [],
   "source": [
    "# *args + a keyword argument\n",
    "\n",
    "def params(*args, z=10):\n",
    "    print('args => ', args)\n",
    "    print('keyword args => ', z)\n",
    "    \n",
    "params(7, 1)\n",
    "params(10, 5, z='foo')"
   ]
  },
  {
   "cell_type": "code",
   "execution_count": null,
   "metadata": {
    "slideshow": {
     "slide_type": "subslide"
    }
   },
   "outputs": [],
   "source": [
    "# artitrary number of args and kwargs\n",
    "\n",
    "def params(*args, **kwargs):\n",
    "    print('args => ', args)\n",
    "    print('keyword args => ', kwargs)\n",
    "    \n",
    "args = (1, 2, 3)\n",
    "kwargs = {'fizz': 10, 'buzz': 15}\n",
    "params(*args, **kwargs)\n",
    "params(*args, foo=5, bar=20)"
   ]
  },
  {
   "cell_type": "markdown",
   "metadata": {
    "slideshow": {
     "slide_type": "slide"
    }
   },
   "source": [
    "# Everything in Python is an Object"
   ]
  },
  {
   "cell_type": "markdown",
   "metadata": {
    "slideshow": {
     "slide_type": "slide"
    }
   },
   "source": [
    "# Functions are Objects Too\n",
    "\n",
    "* You can pass normal types (ints, strs)\n",
    "* Functions are known as \"first class objects\" in Python. \n",
    "* You can pass a function to another function. "
   ]
  },
  {
   "cell_type": "code",
   "execution_count": null,
   "metadata": {
    "slideshow": {
     "slide_type": "subslide"
    }
   },
   "outputs": [],
   "source": [
    "def foo():\n",
    "    return 'foo'\n",
    "\n",
    "def doubler(func):\n",
    "    return func() * 2\n",
    "\n",
    "print(doubler)\n",
    "print(type(doubler))\n",
    "print(doubler(foo))"
   ]
  },
  {
   "cell_type": "markdown",
   "metadata": {
    "slideshow": {
     "slide_type": "slide"
    }
   },
   "source": [
    "# Functions have attributes"
   ]
  },
  {
   "cell_type": "code",
   "execution_count": null,
   "metadata": {
    "slideshow": {
     "slide_type": "subslide"
    }
   },
   "outputs": [],
   "source": [
    "def doubler(number):\n",
    "    return number * 2\n",
    "\n",
    "dir(doubler)"
   ]
  },
  {
   "cell_type": "markdown",
   "metadata": {
    "slideshow": {
     "slide_type": "slide"
    }
   },
   "source": [
    "# Magic methods in Python\n",
    "\n",
    "`__doc__` and `__name__` are called **magic methods** or **dunder**\n",
    "\n",
    " - These methods are special\n",
    " - Used for creating everything OOP"
   ]
  },
  {
   "cell_type": "markdown",
   "metadata": {
    "slideshow": {
     "slide_type": "slide"
    }
   },
   "source": [
    "# Accessing Function Attributes"
   ]
  },
  {
   "cell_type": "code",
   "execution_count": null,
   "metadata": {
    "slideshow": {
     "slide_type": "subslide"
    }
   },
   "outputs": [],
   "source": [
    "def doubler(number):\n",
    "    return number * 2\n",
    "\n",
    "print(doubler.__doc__)\n",
    "print(doubler.__name__)"
   ]
  },
  {
   "cell_type": "markdown",
   "metadata": {
    "slideshow": {
     "slide_type": "subslide"
    }
   },
   "source": [
    "If the function doesn't have a docstring, then `__doc__` returns `None`. Let's fix that:"
   ]
  },
  {
   "cell_type": "code",
   "execution_count": null,
   "metadata": {
    "slideshow": {
     "slide_type": "subslide"
    }
   },
   "outputs": [],
   "source": [
    "def doubler(number):\n",
    "    \"\"\"Doubles the number passed to it\"\"\"\n",
    "    return number * 2 \n",
    "    \n",
    "print(doubler.__doc__)"
   ]
  },
  {
   "cell_type": "markdown",
   "metadata": {
    "slideshow": {
     "slide_type": "skip"
    }
   },
   "source": [
    "# Function Attributes are stored in `__dict__`"
   ]
  },
  {
   "cell_type": "code",
   "execution_count": null,
   "metadata": {
    "slideshow": {
     "slide_type": "skip"
    }
   },
   "outputs": [],
   "source": [
    "def doubler(number):\n",
    "    \"\"\"Doubles the number passed to it\"\"\"\n",
    "    return number * 2\n",
    "\n",
    "print(doubler.__dict__)\n",
    "doubler.note = 'This is a note'\n",
    "print(doubler.__dict__)"
   ]
  },
  {
   "cell_type": "code",
   "execution_count": null,
   "metadata": {
    "slideshow": {
     "slide_type": "subslide"
    }
   },
   "outputs": [],
   "source": [
    "# You can ask a function about itself inside the function\n",
    "def doubler(x):\n",
    "    name = doubler.__name__\n",
    "    print('function name is \"{name}\"'.format(name=name))\n",
    "    return x * 2\n",
    "\n",
    "doubler(2)"
   ]
  },
  {
   "cell_type": "code",
   "execution_count": null,
   "metadata": {
    "slideshow": {
     "slide_type": "subslide"
    }
   },
   "outputs": [],
   "source": [
    "# You can also attach data to the function\n",
    "def my_function():\n",
    "    # \"my_function\" is in a global scope inside the function block\n",
    "    my_function.called = True\n",
    "    \n",
    "my_function.called = False\n",
    "if my_function.called:\n",
    "    print('This function was called already')\n",
    "else:\n",
    "    print('This function has never been called')"
   ]
  },
  {
   "cell_type": "code",
   "execution_count": null,
   "metadata": {
    "slideshow": {
     "slide_type": "subslide"
    }
   },
   "outputs": [],
   "source": [
    "my_function()\n",
    "\n",
    "if my_function.called:\n",
    "    print('This function was called already')\n",
    "else:\n",
    "    print('This function has never been called')"
   ]
  },
  {
   "cell_type": "markdown",
   "metadata": {
    "slideshow": {
     "slide_type": "slide"
    }
   },
   "source": [
    "# Functions Can be Nested"
   ]
  },
  {
   "cell_type": "code",
   "execution_count": null,
   "metadata": {
    "slideshow": {
     "slide_type": "subslide"
    }
   },
   "outputs": [],
   "source": [
    "def doubler():\n",
    "    def double(x):\n",
    "        return x * 2\n",
    "    return double\n",
    "\n",
    "print(doubler())\n",
    "print(doubler()(2))"
   ]
  },
  {
   "cell_type": "code",
   "execution_count": null,
   "metadata": {
    "slideshow": {
     "slide_type": "subslide"
    }
   },
   "outputs": [],
   "source": [
    "x = 10 # these can be accessed inside the functions\n",
    "y = 20\n",
    "def wrapper():\n",
    "    def nested():\n",
    "        x = 5  # shadows x outside\n",
    "        print('Nested x: {} y: {}'.format(x, y))\n",
    "    nested()\n",
    "    print('Outside x: {} y: {}'.format(x, y)) \n",
    "wrapper()"
   ]
  },
  {
   "cell_type": "markdown",
   "metadata": {
    "slideshow": {
     "slide_type": "slide"
    }
   },
   "source": [
    "# Which brings us to Closures!\n",
    "\n",
    "A closure is simply a function that is returned by another function"
   ]
  },
  {
   "cell_type": "code",
   "execution_count": null,
   "metadata": {
    "slideshow": {
     "slide_type": "subslide"
    }
   },
   "outputs": [],
   "source": [
    "def multiply_by(x):\n",
    "    \"\"\"Function generator or factory\"\"\"\n",
    "    def multiplier(num):\n",
    "        \"\"\"This is a closure\"\"\"\n",
    "        return num * x\n",
    "    return multiplier\n",
    "\n",
    "print(multiply_by)\n",
    "multiple_by_5 = multiply_by(5)\n",
    "print(multiple_by_5)\n",
    "print(multiple_by_5(6))"
   ]
  },
  {
   "cell_type": "markdown",
   "metadata": {
    "slideshow": {
     "slide_type": "slide"
    }
   },
   "source": [
    "# Closure Uses\n",
    "\n",
    " - Function generators\n",
    " - Keep a common interface (the adapter pattern)\n",
    " - Eliminates code duplication (DRY)\n",
    " - Delays execution of a function"
   ]
  },
  {
   "cell_type": "markdown",
   "metadata": {
    "slideshow": {
     "slide_type": "slide"
    }
   },
   "source": [
    "# Closures enable the creation of Decorators"
   ]
  },
  {
   "cell_type": "markdown",
   "metadata": {
    "slideshow": {
     "slide_type": "slide"
    }
   },
   "source": [
    "**Definition:** *A decorator will take the function they are decorating and extend its behavior while not actually modifying what the function itself does.*"
   ]
  },
  {
   "cell_type": "markdown",
   "metadata": {
    "slideshow": {
     "slide_type": "slide"
    }
   },
   "source": [
    "## Decorators are usually applied to \n",
    "\n",
    " - functions\n",
    " - methods"
   ]
  },
  {
   "cell_type": "code",
   "execution_count": null,
   "metadata": {
    "slideshow": {
     "slide_type": "skip"
    }
   },
   "outputs": [],
   "source": [
    "# Let's write a decorator together\n",
    " "
   ]
  },
  {
   "cell_type": "code",
   "execution_count": null,
   "metadata": {
    "slideshow": {
     "slide_type": "subslide"
    }
   },
   "outputs": [],
   "source": [
    "def info(func): # <-- Accepts a function\n",
    "    def wrapper():\n",
    "        print('start of wrapper')\n",
    "        result = func() # <-- Executes the passed in function\n",
    "        print('end of wrapper')\n",
    "        return result\n",
    "    return wrapper # <-- Returns a different function\n",
    "\n",
    "def hello():\n",
    "    return 'Hello'\n",
    "\n",
    "\n",
    "print(hello.__name__)\n",
    "hello = info(hello)\n",
    "print(hello.__name__)\n",
    "hello()    "
   ]
  },
  {
   "cell_type": "markdown",
   "metadata": {
    "slideshow": {
     "slide_type": "slide"
    }
   },
   "source": [
    "# Using Decorator Syntax\n",
    "\n",
    "Starting in Python 2.4 (circa 2004), you can use \"@\" to apply a decorator"
   ]
  },
  {
   "cell_type": "code",
   "execution_count": null,
   "metadata": {
    "slideshow": {
     "slide_type": "subslide"
    }
   },
   "outputs": [],
   "source": [
    "@info\n",
    "def hello():\n",
    "    return 'Hello'\n",
    "\n",
    "hello() \n",
    "hello.__name__"
   ]
  },
  {
   "cell_type": "markdown",
   "metadata": {
    "slideshow": {
     "slide_type": "slide"
    }
   },
   "source": [
    "# Real Functions have Arguments"
   ]
  },
  {
   "cell_type": "code",
   "execution_count": null,
   "metadata": {
    "slideshow": {
     "slide_type": "subslide"
    }
   },
   "outputs": [],
   "source": [
    "def info(func): \n",
    "    def wrapper():\n",
    "        print('start of wrapper')\n",
    "        result = func()\n",
    "        print('end of wrapper')\n",
    "        return result\n",
    "    return wrapper \n",
    "\n",
    "@info\n",
    "def hello(name):\n",
    "    return 'Hello {}'.format(name)\n",
    "\n",
    "\n",
    "hello('Mike') "
   ]
  },
  {
   "cell_type": "code",
   "execution_count": null,
   "metadata": {
    "slideshow": {
     "slide_type": "subslide"
    }
   },
   "outputs": [],
   "source": [
    "def info(func): \n",
    "    def wrapper(*args, **kwargs):  # <-- Need to pass in arguments \n",
    "        print('start of wrapper')\n",
    "        result = func(*args, **kwargs) # <-- Use args / kwargs \n",
    "        print('end of wrapper')\n",
    "        return result\n",
    "    return wrapper \n",
    "\n",
    "@info\n",
    "def hello(name):\n",
    "    return 'Hello {}'.format(name)\n",
    "\n",
    "hello('Mike')"
   ]
  },
  {
   "cell_type": "code",
   "execution_count": null,
   "metadata": {
    "slideshow": {
     "slide_type": "notes"
    }
   },
   "outputs": [],
   "source": [
    "def info(func):  # <-- Accepts a function\n",
    "    def wrapper(*args):\n",
    "        print('Function name: ' + func.__name__)\n",
    "        print('Function docstring: ' + str(func.__doc__))\n",
    "        return func(*args)  # <-- Executes the passed in function\n",
    "    return wrapper  # <-- Returns a different function\n",
    "\n",
    "def doubler(number):\n",
    "    \"\"\"Doubles the number passed to it\"\"\"\n",
    "    return number * 2\n",
    "\n",
    "my_decorator = info(doubler)\n",
    "print(my_decorator(2))\n",
    "print(my_decorator.__name__)"
   ]
  },
  {
   "cell_type": "code",
   "execution_count": null,
   "metadata": {
    "slideshow": {
     "slide_type": "notes"
    }
   },
   "outputs": [],
   "source": [
    "@info\n",
    "def doubler(number):\n",
    "    \"\"\"Doubles the number passed to it\"\"\"\n",
    "    return number * 2\n",
    "\n",
    "print(doubler(2))"
   ]
  },
  {
   "cell_type": "markdown",
   "metadata": {
    "slideshow": {
     "slide_type": "slide"
    }
   },
   "source": [
    "# Stacking / Chaining Decorators\n",
    "\n",
    "You can also apply multiple decorators to a single function"
   ]
  },
  {
   "cell_type": "code",
   "execution_count": null,
   "metadata": {
    "slideshow": {
     "slide_type": "subslide"
    }
   },
   "outputs": [],
   "source": [
    "def bold(func):\n",
    "    def wrapper():\n",
    "        return \"<b>\" + func() + \"</b>\"\n",
    "    return wrapper\n",
    "\n",
    "def italic(func):\n",
    "    def wrapper():\n",
    "        return \"<i>\" + func() + \"</i>\"\n",
    "    return wrapper\n",
    "\n",
    "@bold\n",
    "@italic\n",
    "def formatted_text():\n",
    "    return 'Python rocks!'\n",
    "\n",
    "print(formatted_text())"
   ]
  },
  {
   "cell_type": "code",
   "execution_count": null,
   "metadata": {
    "slideshow": {
     "slide_type": "subslide"
    }
   },
   "outputs": [],
   "source": [
    "def bold(func):\n",
    "    def wrapper():\n",
    "        return \"<b>\" + func() + \"</b>\"\n",
    "    return wrapper\n",
    "\n",
    "def italic(func):\n",
    "    def wrapper():\n",
    "        return \"<i>\" + func() + \"</i>\"\n",
    "    return wrapper\n",
    "\n",
    "def formatted_text():\n",
    "    return 'Python rocks!'\n",
    "\n",
    "bold(italic(formatted_text))()"
   ]
  },
  {
   "cell_type": "markdown",
   "metadata": {
    "slideshow": {
     "slide_type": "slide"
    }
   },
   "source": [
    "# Normal Decorators Cannot be Called"
   ]
  },
  {
   "cell_type": "code",
   "execution_count": null,
   "metadata": {
    "slideshow": {
     "slide_type": "subslide"
    }
   },
   "outputs": [],
   "source": [
    "def bold(func):\n",
    "    # We need *args passed to wrapper()\n",
    "    def wrapper(*args):                      \n",
    "        # We need to add *args here too\n",
    "        return \"<b>\" + func(*args) + \"</b>\"  \n",
    "    return wrapper\n",
    "\n",
    "@bold() # <-- This does not work!\n",
    "def formatted_text(text):\n",
    "    return text\n",
    "\n",
    "print(formatted_text('Python Rocks!'))"
   ]
  },
  {
   "cell_type": "markdown",
   "metadata": {
    "slideshow": {
     "slide_type": "skip"
    }
   },
   "source": [
    "## Exercise(s)\n",
    "\n",
    "1) How do we add arguments to the decorator?"
   ]
  },
  {
   "cell_type": "markdown",
   "metadata": {
    "slideshow": {
     "slide_type": "slide"
    }
   },
   "source": [
    "# Create a decorator that accepts arguments"
   ]
  },
  {
   "cell_type": "code",
   "execution_count": null,
   "metadata": {
    "slideshow": {
     "slide_type": "subslide"
    }
   },
   "outputs": [],
   "source": [
    "def my_password_decorator(arg):\n",
    "    '''Decorator Generator'''\n",
    "    print('Decorator arg = {arg}'.format(arg=arg))\n",
    "    \n",
    "    def the_real_decorator(function):\n",
    "        \n",
    "        def wrapper(*args, **kwargs):  # <-- The args/kwargs for the decorated function\n",
    "            print('Function {} args: {} kwargs: {}'.format(\n",
    "                function.__name__, str(args), str(kwargs)))\n",
    "            return function(*args, **kwargs)[:arg] # <-- truncate the password\n",
    "        \n",
    "        return wrapper\n",
    "    \n",
    "    return the_real_decorator"
   ]
  },
  {
   "cell_type": "markdown",
   "metadata": {
    "slideshow": {
     "slide_type": "subslide"
    }
   },
   "source": [
    "# Using the argument(s)"
   ]
  },
  {
   "cell_type": "code",
   "execution_count": null,
   "metadata": {
    "slideshow": {
     "slide_type": "subslide"
    }
   },
   "outputs": [],
   "source": [
    "@my_password_decorator(8)\n",
    "def create_password(password):\n",
    "    return password\n",
    "\n",
    "create_password('long_P@$$w0Rd')"
   ]
  },
  {
   "cell_type": "markdown",
   "metadata": {
    "slideshow": {
     "slide_type": "skip"
    }
   },
   "source": [
    "# Unwrapping the decorator"
   ]
  },
  {
   "cell_type": "code",
   "execution_count": null,
   "metadata": {
    "slideshow": {
     "slide_type": "skip"
    }
   },
   "outputs": [],
   "source": [
    "def my_password_decorator(arg):\n",
    "    print('Decorator arg = {arg}'.format(arg=arg))\n",
    "    \n",
    "    def the_real_decorator(function):\n",
    "        \n",
    "        def wrapper(*args, **kwargs):  # <-- The args/kwargs for the decorated function\n",
    "            print('Function {} args: {} kwargs: {}'.format(\n",
    "                function.__name__, str(args), str(kwargs)))\n",
    "            return function(*args, **kwargs)[:arg] # <-- truncate the password\n",
    "        \n",
    "        return wrapper\n",
    "    \n",
    "    return the_real_decorator"
   ]
  },
  {
   "cell_type": "code",
   "execution_count": null,
   "metadata": {
    "slideshow": {
     "slide_type": "skip"
    }
   },
   "outputs": [],
   "source": [
    "def create_password(password):\n",
    "    return password\n",
    " \n",
    "decorator = my_password_decorator(8)(create_password)\n",
    "print(decorator('this_is_a_long_P@$$w0Rd'))"
   ]
  },
  {
   "cell_type": "markdown",
   "metadata": {
    "slideshow": {
     "slide_type": "skip"
    }
   },
   "source": [
    "# Simplification with partial\n",
    "\n",
    "You can simplify this example using the **functools** library"
   ]
  },
  {
   "cell_type": "code",
   "execution_count": null,
   "metadata": {
    "slideshow": {
     "slide_type": "skip"
    }
   },
   "outputs": [],
   "source": [
    "from functools import partial\n",
    "\n",
    "def my_password_decorator(function, arg):\n",
    "    print('Decorator arg = {arg}'.format(arg=arg))\n",
    "    \n",
    "    def wrapper(*args, **kwargs):  \n",
    "        print('Function {} args: {} kwargs: {}'.format(\n",
    "            function.__name__, str(args), str(kwargs)))\n",
    "        return function(*args, **kwargs)[:arg] \n",
    "\n",
    "    return wrapper"
   ]
  },
  {
   "cell_type": "code",
   "execution_count": null,
   "metadata": {
    "slideshow": {
     "slide_type": "skip"
    }
   },
   "outputs": [],
   "source": [
    "decorator_with_arguments = partial(my_password_decorator, arg=8)\n",
    " \n",
    "@decorator_with_arguments\n",
    "def create_password(password):\n",
    "    return password\n",
    " \n",
    "print(decorator('this_is_a_long_P@$$w0Rd'))"
   ]
  },
  {
   "cell_type": "markdown",
   "metadata": {
    "slideshow": {
     "slide_type": "slide"
    }
   },
   "source": [
    "# Decorator Obfuscation\n",
    "\n",
    "Decorators actually obfuscate the name of the function and the docstring"
   ]
  },
  {
   "cell_type": "markdown",
   "metadata": {
    "slideshow": {
     "slide_type": "subslide"
    }
   },
   "source": [
    "## Yes, it matters\n",
    " \n",
    " - Object pickling (serialization) requires the `__name__` be updated\n",
    " - `__doc__` should be updated for introspection"
   ]
  },
  {
   "cell_type": "code",
   "execution_count": null,
   "metadata": {
    "slideshow": {
     "slide_type": "subslide"
    }
   },
   "outputs": [],
   "source": [
    "def bold(func):\n",
    "    def wrapper(*args):\n",
    "        return \"<b>\" + func(*args) + \"</b>\"\n",
    "    return wrapper\n",
    "\n",
    "@bold\n",
    "def formatted_text(text):\n",
    "    \"\"\"\n",
    "    Format the passed in text\n",
    "    \"\"\"\n",
    "    return text\n",
    "\n",
    "print(formatted_text.__name__)\n",
    "print(formatted_text.__doc__)"
   ]
  },
  {
   "cell_type": "markdown",
   "metadata": {
    "slideshow": {
     "slide_type": "subslide"
    }
   },
   "source": [
    "## You can fix this yourself"
   ]
  },
  {
   "cell_type": "code",
   "execution_count": null,
   "metadata": {
    "slideshow": {
     "slide_type": "subslide"
    }
   },
   "outputs": [],
   "source": [
    "def bold(func):\n",
    "    def wrapper(*args):\n",
    "        return \"<b>\" + func(*args) + \"</b>\"\n",
    "    wrapper.__doc__ = func.__doc__\n",
    "    wrapper.__name__ = func.__name__\n",
    "    return wrapper\n",
    "\n",
    "@bold\n",
    "def formatted_text(text):\n",
    "    \"\"\"\n",
    "    Format the passed in text\n",
    "    \"\"\"\n",
    "    return text\n",
    "\n",
    "print(formatted_text.__name__)\n",
    "print(formatted_text.__doc__)"
   ]
  },
  {
   "cell_type": "markdown",
   "metadata": {
    "slideshow": {
     "slide_type": "subslide"
    }
   },
   "source": [
    "## But Python provides a way to fix this in its `functools` module:"
   ]
  },
  {
   "cell_type": "code",
   "execution_count": null,
   "metadata": {
    "slideshow": {
     "slide_type": "subslide"
    }
   },
   "outputs": [],
   "source": [
    "from functools import wraps\n",
    "\n",
    "def bold(func):\n",
    "    @wraps(func)\n",
    "    def wrapper(*args):\n",
    "        return \"<b>\" + func(*args) + \"</b>\"\n",
    "    return wrapper"
   ]
  },
  {
   "cell_type": "code",
   "execution_count": null,
   "metadata": {
    "slideshow": {
     "slide_type": "subslide"
    }
   },
   "outputs": [],
   "source": [
    "@bold\n",
    "def formatted_text(text):\n",
    "    \"\"\"\n",
    "    Format the passed in text\n",
    "    \"\"\"\n",
    "    return text\n",
    "\n",
    "print(formatted_text.__name__)\n",
    "print(formatted_text.__doc__)"
   ]
  },
  {
   "cell_type": "markdown",
   "metadata": {
    "slideshow": {
     "slide_type": "slide"
    }
   },
   "source": [
    "# Class Decorators\n",
    "\n",
    "Using a class as a decorator"
   ]
  },
  {
   "cell_type": "code",
   "execution_count": null,
   "metadata": {
    "slideshow": {
     "slide_type": "subslide"
    }
   },
   "outputs": [],
   "source": [
    "import functools\n",
    "\n",
    "class MyDecorator:\n",
    "    \n",
    "    def __call__(self, func):\n",
    "        @functools.wraps(func)\n",
    "        def wrapper(*args, **kwargs):\n",
    "            return func(*args, **kwargs)\n",
    "        return wrapper\n",
    "    \n",
    "@MyDecorator  # This won't work\n",
    "def adder(x, y):\n",
    "    return x + y\n",
    "\n",
    "adder(5, 6)"
   ]
  },
  {
   "cell_type": "markdown",
   "metadata": {
    "slideshow": {
     "slide_type": "subslide"
    }
   },
   "source": [
    "## When using classes for decorators, you need to create an instance"
   ]
  },
  {
   "cell_type": "code",
   "execution_count": null,
   "metadata": {
    "slideshow": {
     "slide_type": "subslide"
    }
   },
   "outputs": [],
   "source": [
    "import functools\n",
    "\n",
    "class MyDecorator:\n",
    "    def __call__(self, func):\n",
    "        @functools.wraps(func)\n",
    "        def wrapper(*args, **kwargs):\n",
    "            return func(*args, **kwargs)\n",
    "        return wrapper\n",
    "    \n",
    "decorator = MyDecorator()\n",
    "\n",
    "@decorator\n",
    "def adder(x, y):\n",
    "    return x + y\n",
    "\n",
    "adder(5, 6)"
   ]
  },
  {
   "cell_type": "markdown",
   "metadata": {
    "slideshow": {
     "slide_type": "slide"
    }
   },
   "source": [
    "# Adding arguments with a Class decorator"
   ]
  },
  {
   "cell_type": "code",
   "execution_count": null,
   "metadata": {
    "slideshow": {
     "slide_type": "subslide"
    }
   },
   "outputs": [],
   "source": [
    "import functools\n",
    "\n",
    "class DecoratorWithArgs:\n",
    " \n",
    "    def __init__(self, arg1, arg2):\n",
    "        print('in __init__')\n",
    "        self.arg1 = arg1\n",
    "        self.arg2 = arg2\n",
    "        print('Decorator args: {}, {}'.format(arg1, arg2))\n",
    " \n",
    "    def __call__(self, f):\n",
    "        print('in __call__')\n",
    "        @functools.wraps(f)\n",
    "        def wrapped(*args, **kwargs):\n",
    "            print('in wrapped()')\n",
    "            return f(*args, **kwargs)\n",
    "        return wrapped"
   ]
  },
  {
   "cell_type": "code",
   "execution_count": null,
   "metadata": {
    "slideshow": {
     "slide_type": "subslide"
    }
   },
   "outputs": [],
   "source": [
    "@DecoratorWithArgs(3, 'Python')\n",
    "def doubler(number):\n",
    "    return number * 2\n",
    " \n",
    "print(doubler(5))"
   ]
  },
  {
   "cell_type": "markdown",
   "metadata": {
    "slideshow": {
     "slide_type": "slide"
    }
   },
   "source": [
    "# Decorating a Class\n",
    "\n",
    "Adding a decorator to a class without modifying behavior"
   ]
  },
  {
   "cell_type": "code",
   "execution_count": null,
   "metadata": {
    "slideshow": {
     "slide_type": "slide"
    }
   },
   "outputs": [],
   "source": [
    "class MyActualClass:\n",
    "    def __init__(self):\n",
    "        print('in MyActualClass __init__()')\n",
    " \n",
    "    def quad(self, value):\n",
    "        return value * 4\n",
    " \n",
    "obj = MyActualClass()\n",
    "print(obj.quad(4))"
   ]
  },
  {
   "cell_type": "code",
   "execution_count": null,
   "metadata": {
    "slideshow": {
     "slide_type": "subslide"
    }
   },
   "outputs": [],
   "source": [
    "def decorator(cls):\n",
    "    class Wrapper(cls):\n",
    "        def doubler(self, value):\n",
    "            return value * 2\n",
    "    return Wrapper"
   ]
  },
  {
   "cell_type": "code",
   "execution_count": null,
   "metadata": {
    "slideshow": {
     "slide_type": "subslide"
    }
   },
   "outputs": [],
   "source": [
    "@decorator\n",
    "class MyActualClass:\n",
    "    def __init__(self):\n",
    "        print('in MyActualClass __init__()')\n",
    " \n",
    "    def quad(self, value):\n",
    "        return value * 4\n",
    " \n",
    "obj = MyActualClass()\n",
    "print(obj.quad(4))\n",
    "print(obj.doubler(5))"
   ]
  },
  {
   "cell_type": "markdown",
   "metadata": {
    "slideshow": {
     "slide_type": "subslide"
    }
   },
   "source": [
    "Or just use a subclass"
   ]
  },
  {
   "cell_type": "code",
   "execution_count": null,
   "metadata": {
    "slideshow": {
     "slide_type": "subslide"
    }
   },
   "outputs": [],
   "source": [
    "class MyActualClass:\n",
    "    def __init__(self):\n",
    "        print('in MyActualClass __init__()')\n",
    "\n",
    "    def quad(self, value):\n",
    "        return value * 4"
   ]
  },
  {
   "cell_type": "code",
   "execution_count": null,
   "metadata": {
    "slideshow": {
     "slide_type": "subslide"
    }
   },
   "outputs": [],
   "source": [
    "class MySubClass(MyActualClass):\n",
    "    def doubler(self, value):\n",
    "        return value * 2\n",
    "\n",
    "obj = MySubClass()\n",
    "print(obj.quad(4))\n",
    "print(obj.doubler(5))"
   ]
  },
  {
   "cell_type": "markdown",
   "metadata": {
    "slideshow": {
     "slide_type": "slide"
    }
   },
   "source": [
    "# Practical Decorators\n",
    "\n",
    "You can use decorators for many things. Some of the most popular uses including creating decorators for authentication (django / flask) and logging."
   ]
  },
  {
   "cell_type": "markdown",
   "metadata": {
    "slideshow": {
     "slide_type": "subslide"
    }
   },
   "source": [
    "## A Logging Decorator"
   ]
  },
  {
   "cell_type": "code",
   "execution_count": null,
   "metadata": {
    "slideshow": {
     "slide_type": "subslide"
    }
   },
   "outputs": [],
   "source": [
    "import logging\n",
    "\n",
    "def log(func):\n",
    "    \"\"\"\n",
    "    Log what function is called\n",
    "    \"\"\"\n",
    "    def wrap_log(*args, **kwargs):\n",
    "        name = func.__name__\n",
    "        logger = logging.getLogger(name)\n",
    "        logger.setLevel(logging.INFO)\n",
    "\n",
    "        # add file handler\n",
    "        fh = logging.FileHandler(\"/home/mdriscoll/Desktop/%s.log\" % name)\n",
    "        fmt = '%(asctime)s - %(name)s - %(levelname)s - %(message)s'\n",
    "        formatter = logging.Formatter(fmt)\n",
    "        fh.setFormatter(formatter)\n",
    "        logger.addHandler(fh)\n",
    "\n",
    "        logger.info(\"Running function: %s\" % name)\n",
    "        result = func(*args, **kwargs)\n",
    "        logger.info(\"Result: %s\" % result)\n",
    "        return func\n",
    "    return wrap_log"
   ]
  },
  {
   "cell_type": "code",
   "execution_count": null,
   "metadata": {
    "slideshow": {
     "slide_type": "subslide"
    }
   },
   "outputs": [],
   "source": [
    "@log\n",
    "def doubler(number):\n",
    "    \"\"\"Doubles the number passed to it\"\"\"\n",
    "    return number * 2"
   ]
  },
  {
   "cell_type": "markdown",
   "metadata": {
    "collapsed": true,
    "slideshow": {
     "slide_type": "skip"
    }
   },
   "source": [
    "## Exercise(s)\n",
    "\n",
    "1) How can we tell our logger decorator where to log? \n",
    "2) Can you figure out how to make the logger decorator log to stdout?\n"
   ]
  },
  {
   "cell_type": "markdown",
   "metadata": {
    "slideshow": {
     "slide_type": "slide"
    }
   },
   "source": [
    "## An Example from Flask\n",
    "\n",
    "http://flask.pocoo.org/docs/0.12/quickstart/#a-minimal-application"
   ]
  },
  {
   "cell_type": "code",
   "execution_count": null,
   "metadata": {
    "slideshow": {
     "slide_type": "subslide"
    }
   },
   "outputs": [],
   "source": [
    "from flask import Flask\n",
    "app = Flask(__name__)\n",
    "\n",
    "@app.route('/')\n",
    "def hello_world():\n",
    "    return 'Hello, World!'"
   ]
  },
  {
   "cell_type": "markdown",
   "metadata": {
    "slideshow": {
     "slide_type": "slide"
    }
   },
   "source": [
    "# Other common decorator uses\n",
    "\n",
    " - caching\n",
    " - retrying a function that might fail\n",
    " - profiling\n",
    " - authentication\n",
    " - redirecting stdout / stderr"
   ]
  },
  {
   "cell_type": "markdown",
   "metadata": {
    "slideshow": {
     "slide_type": "slide"
    }
   },
   "source": [
    "# Questions?\n",
    "\n"
   ]
  },
  {
   "cell_type": "markdown",
   "metadata": {
    "slideshow": {
     "slide_type": "slide"
    }
   },
   "source": [
    "![title](Evaluation.PNG)"
   ]
  },
  {
   "cell_type": "code",
   "execution_count": null,
   "metadata": {},
   "outputs": [],
   "source": []
  }
 ],
 "metadata": {
  "celltoolbar": "Slideshow",
  "kernelspec": {
   "display_name": "Python 3",
   "language": "python",
   "name": "python3"
  },
  "language_info": {
   "codemirror_mode": {
    "name": "ipython",
    "version": 3
   },
   "file_extension": ".py",
   "mimetype": "text/x-python",
   "name": "python",
   "nbconvert_exporter": "python",
   "pygments_lexer": "ipython3",
   "version": "3.6.4"
  }
 },
 "nbformat": 4,
 "nbformat_minor": 2
}
